{
  "nbformat": 4,
  "nbformat_minor": 0,
  "metadata": {
    "colab": {
      "name": "Hafta 13",
      "provenance": [],
      "collapsed_sections": []
    },
    "kernelspec": {
      "name": "python3",
      "display_name": "Python 3"
    }
  },
  "cells": [
    {
      "cell_type": "code",
      "metadata": {
        "id": "UOtA8guaWHF_",
        "colab_type": "code",
        "colab": {}
      },
      "source": [
        "import numpy as np\n",
        "\n",
        "class Conv3x3:\n",
        "    # A Convolution layer using 3x3 filters.\n",
        "\n",
        "    def __init__(self, num_filters):\n",
        "      self.num_filters = num_filters\n",
        "\n",
        "      # filters is a 3d array with dimensions (num_filters, 3, 3)\n",
        "      # We divide by 9 to reduce the variance of our initial values\n",
        "      self.filters = np.random.randn(num_filters, 3, 3) / 9\n",
        "\n",
        "    def iterate_regions(self, image):\n",
        "\n",
        "        #Generates all possible 3x3 image regions using valid padding.\n",
        "        #image is a 2d numpy array\n",
        "\n",
        "        h, w = image.shape\n",
        "\n",
        "        for i in range(h - 2):\n",
        "            for j in range(w - 2):\n",
        "                im_region = image[i:(i + 3), j:(j + 3)]\n",
        "                yield im_region, i, j\n",
        "\n",
        "    def forward(self, input):\n",
        "\n",
        "        #Performs a forward pass of the conv layer using the given input.\n",
        "        #Returns a 3d numpy array with dimensions (h, w, num_filters).\n",
        "        #   - input is a 2d numpy array\n",
        "        \n",
        "        h, w = input.shape\n",
        "        output = np.zeros((h - 2, w - 2, self.num_filters))\n",
        "\n",
        "        for im_region, i, j in self.iterate_regions(input):\n",
        "            output[i, j] = np.sum(im_region * self.filters, axis=(1, 2))\n",
        "            \n",
        "        return output"
      ],
      "execution_count": 0,
      "outputs": []
    },
    {
      "cell_type": "code",
      "metadata": {
        "id": "6tDPZZLkW1dV",
        "colab_type": "code",
        "colab": {
          "base_uri": "https://localhost:8080/",
          "height": 102
        },
        "outputId": "1a585a3f-0191-4c92-8e43-fe7bb657239c"
      },
      "source": [
        "!pip3 install mnist"
      ],
      "execution_count": 2,
      "outputs": [
        {
          "output_type": "stream",
          "text": [
            "Collecting mnist\n",
            "  Downloading https://files.pythonhosted.org/packages/c6/c4/5db3bfe009f8d71f1d532bbadbd0ec203764bba3a469e4703a889db8e5e0/mnist-0.2.2-py2.py3-none-any.whl\n",
            "Requirement already satisfied: numpy in /usr/local/lib/python3.6/dist-packages (from mnist) (1.17.4)\n",
            "Installing collected packages: mnist\n",
            "Successfully installed mnist-0.2.2\n"
          ],
          "name": "stdout"
        }
      ]
    },
    {
      "cell_type": "code",
      "metadata": {
        "id": "DfXqPSr4UOnc",
        "colab_type": "code",
        "colab": {
          "base_uri": "https://localhost:8080/",
          "height": 34
        },
        "outputId": "202a5b8a-6c02-4e28-e027-0feb99bfc264"
      },
      "source": [
        "import mnist\n",
        "\n",
        "# The mnist package handles the MNIST dataset for us!\n",
        "# Learn more at https://github.com/datapythonista/mnist\n",
        "train_images = mnist.train_images()\n",
        "train_labels = mnist.train_labels()\n",
        "\n",
        "conv = Conv3x3(8)\n",
        "output = conv.forward(train_images[0])\n",
        "print(output.shape) # (26, 26, 8)"
      ],
      "execution_count": 3,
      "outputs": [
        {
          "output_type": "stream",
          "text": [
            "(26, 26, 8)\n"
          ],
          "name": "stdout"
        }
      ]
    },
    {
      "cell_type": "code",
      "metadata": {
        "id": "EUxPuU8gUQR8",
        "colab_type": "code",
        "colab": {}
      },
      "source": [
        "#POOLING\n",
        "\n",
        "class MaxPool2:\n",
        "    # A Max Pooling layer using a pool size of 2.\n",
        "\n",
        "    def iterate_regions(self, image):\n",
        "      '''\n",
        "      Generates non-overlapping 2x2 image regions to pool over.\n",
        "      - image is a 2d numpy array\n",
        "      '''\n",
        "      h, w, _ = image.shape\n",
        "      new_h = h // 2\n",
        "      new_w = w // 2\n",
        "\n",
        "      for i in range(new_h):\n",
        "        for j in range(new_w):\n",
        "          im_region = image[(i * 2):(i * 2 + 2), (j * 2):(j * 2 + 2)]\n",
        "          yield im_region, i, j\n",
        "\n",
        "    def forward(self, input):\n",
        "      '''\n",
        "      Performs a forward pass of the maxpool layer using the given input.\n",
        "      Returns a 3d numpy array with dimensions (h / 2, w / 2, num_filters).\n",
        "      - input is a 3d numpy array with dimensions (h, w, num_filters)\n",
        "      '''\n",
        "      h, w, num_filters = input.shape\n",
        "      output = np.zeros((h // 2, w // 2, num_filters))\n",
        "\n",
        "      for im_region, i, j in self.iterate_regions(input):\n",
        "        output[i, j] = np.amax(im_region, axis=(0, 1))\n",
        "\n",
        "      return output"
      ],
      "execution_count": 0,
      "outputs": []
    },
    {
      "cell_type": "code",
      "metadata": {
        "id": "o85oeBatXefn",
        "colab_type": "code",
        "colab": {
          "base_uri": "https://localhost:8080/",
          "height": 34
        },
        "outputId": "e227bbba-a4a2-4375-9bcf-97cbe562cba9"
      },
      "source": [
        "# The mnist package handles the MNIST dataset for us!\n",
        "# Learn more at https://github.com/datapythonista/mnist\n",
        "train_images = mnist.train_images()\n",
        "train_labels = mnist.train_labels()\n",
        "\n",
        "conv = Conv3x3(8)\n",
        "pool = MaxPool2()\n",
        "\n",
        "output = conv.forward(train_images[0])\n",
        "output = pool.forward(output)\n",
        "print(output.shape) # (13, 13, 8)"
      ],
      "execution_count": 5,
      "outputs": [
        {
          "output_type": "stream",
          "text": [
            "(13, 13, 8)\n"
          ],
          "name": "stdout"
        }
      ]
    },
    {
      "cell_type": "code",
      "metadata": {
        "id": "rnidiMm5UTyJ",
        "colab_type": "code",
        "colab": {}
      },
      "source": [
        "#SOFTMAX\n",
        "\n",
        "class Softmax:\n",
        "    # A standard fully-connected layer with softmax activation.\n",
        "\n",
        "    def __init__(self, input_len, nodes):\n",
        "      # We divide by input_len to reduce the variance of our initial values\n",
        "      self.weights = np.random.randn(input_len, nodes) / input_len\n",
        "      self.biases = np.zeros(nodes)\n",
        "\n",
        "    def forward(self, input):\n",
        "      '''\n",
        "      Performs a forward pass of the softmax layer using the given input.\n",
        "      Returns a 1d numpy array containing the respective probability values.\n",
        "      - input can be any array with any dimensions.\n",
        "      '''\n",
        "      input = input.flatten()\n",
        "\n",
        "      input_len, nodes = self.weights.shape\n",
        "\n",
        "      totals = np.dot(input, self.weights) + self.biases\n",
        "      exp = np.exp(totals)\n",
        "      return exp / np.sum(exp, axis=0)"
      ],
      "execution_count": 0,
      "outputs": []
    },
    {
      "cell_type": "code",
      "metadata": {
        "id": "olwPNGJfUVm-",
        "colab_type": "code",
        "colab": {
          "base_uri": "https://localhost:8080/",
          "height": 204
        },
        "outputId": "0761fae1-3163-44bd-e450-6f98fb6d4d41"
      },
      "source": [
        "# We only use the first 1k testing examples (out of 10k total)\n",
        "# in the interest of time. Feel free to change this if you want.\n",
        "test_images = mnist.test_images()[:1000]\n",
        "test_labels = mnist.test_labels()[:1000]\n",
        "\n",
        "conv = Conv3x3(8)                  # 28x28x1 -> 26x26x8\n",
        "pool = MaxPool2()                  # 26x26x8 -> 13x13x8\n",
        "softmax = Softmax(13 * 13 * 8, 10) # 13x13x8 -> 10\n",
        "\n",
        "def forward(image, label):\n",
        "    '''\n",
        "    Completes a forward pass of the CNN and calculates the accuracy and\n",
        "    cross-entropy loss.\n",
        "    - image is a 2d numpy array\n",
        "    - label is a digit\n",
        "    '''\n",
        "    # We transform the image from [0, 255] to [-0.5, 0.5] to make it easier\n",
        "    # to work with. This is standard practice.\n",
        "    out = conv.forward((image / 255) - 0.5)\n",
        "    out = pool.forward(out)\n",
        "    out = softmax.forward(out)\n",
        "\n",
        "    # Calculate cross-entropy loss and accuracy. np.log() is the natural log.\n",
        "    loss = -np.log(out[label])\n",
        "    acc = 1 if np.argmax(out) == label else 0\n",
        "\n",
        "    return out, loss, acc\n",
        "\n",
        "print('MNIST CNN initialized!')\n",
        "\n",
        "loss = 0\n",
        "num_correct = 0\n",
        "for i, (im, label) in enumerate(zip(test_images, test_labels)):\n",
        "    # Do a forward pass.\n",
        "    _, l, acc = forward(im, label)\n",
        "    loss += l\n",
        "    num_correct += acc\n",
        "\n",
        "    # Print stats every 100 steps.\n",
        "    if i % 100 == 99:\n",
        "      print(\n",
        "        '[Step %d] Past 100 steps: Average Loss %.3f | Accuracy: %d%%' %\n",
        "        (i + 1, loss / 100, num_correct)\n",
        "      )\n",
        "      loss = 0\n",
        "      num_correct = 0"
      ],
      "execution_count": 7,
      "outputs": [
        {
          "output_type": "stream",
          "text": [
            "MNIST CNN initialized!\n",
            "[Step 100] Past 100 steps: Average Loss 2.302 | Accuracy: 10%\n",
            "[Step 200] Past 100 steps: Average Loss 2.302 | Accuracy: 15%\n",
            "[Step 300] Past 100 steps: Average Loss 2.303 | Accuracy: 10%\n",
            "[Step 400] Past 100 steps: Average Loss 2.302 | Accuracy: 10%\n",
            "[Step 500] Past 100 steps: Average Loss 2.303 | Accuracy: 10%\n",
            "[Step 600] Past 100 steps: Average Loss 2.302 | Accuracy: 8%\n",
            "[Step 700] Past 100 steps: Average Loss 2.303 | Accuracy: 5%\n",
            "[Step 800] Past 100 steps: Average Loss 2.302 | Accuracy: 13%\n",
            "[Step 900] Past 100 steps: Average Loss 2.302 | Accuracy: 13%\n",
            "[Step 1000] Past 100 steps: Average Loss 2.301 | Accuracy: 11%\n"
          ],
          "name": "stdout"
        }
      ]
    },
    {
      "cell_type": "code",
      "metadata": {
        "id": "y8OZ3G06UYap",
        "colab_type": "code",
        "colab": {}
      },
      "source": [
        ""
      ],
      "execution_count": 0,
      "outputs": []
    }
  ]
}