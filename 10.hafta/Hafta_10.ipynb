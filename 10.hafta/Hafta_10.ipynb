{
  "nbformat": 4,
  "nbformat_minor": 0,
  "metadata": {
    "colab": {
      "name": "Hafta 10",
      "provenance": [],
      "collapsed_sections": []
    },
    "kernelspec": {
      "name": "python3",
      "display_name": "Python 3"
    }
  },
  "cells": [
    {
      "cell_type": "code",
      "metadata": {
        "id": "kVcoMyl0TJWo",
        "colab_type": "code",
        "colab": {}
      },
      "source": [
        "import matplotlib.pyplot as plt\n",
        "import numpy as np\n",
        "import cv2"
      ],
      "execution_count": 0,
      "outputs": []
    },
    {
      "cell_type": "code",
      "metadata": {
        "id": "eQoaM0duTZlZ",
        "colab_type": "code",
        "colab": {}
      },
      "source": [
        "data_main_folder=\"dosya\"\n",
        "import  os.path\n",
        "dirs=[d for d in os.listdir(data_main_folder) if os.path.isdir(os.path.join(data_main_folder))]\n",
        "print(dirs)"
      ],
      "execution_count": 0,
      "outputs": []
    },
    {
      "cell_type": "code",
      "metadata": {
        "id": "pweVsbe5TcQd",
        "colab_type": "code",
        "colab": {}
      },
      "source": [
        "data_faces_of_class=np.zeros((1000,100*100+1))\n",
        "folder_counter=-1\n",
        "s=-1\n",
        "for dir_ in dirs:\n",
        "    folder_counter=folder_counter+1\n",
        "    new_folder=data_main_folder+\"/\"+dir_\n",
        "    files=[d for d in os.listdir(new_folder) if os.path.isfile(os.path.join(new_folder))]\n",
        "    for file_ in files:\n",
        "        s=s+1\n",
        "        file_name_with_folder=new_folder+\"/\"+file_\n",
        "        print(file_name_with_folder)\n",
        "        ori_image=cv2.imread(file_name_with_folder)\n",
        "        print(ori_image.shape)\n",
        "        resized_img=cv2.resize(ori_image,(100,100))\n",
        "        print(resized_img.shape)\n",
        "\n",
        "        image_gray=cv2.cvtColor(resized_img,cv2.COLOR_BGR2GRAY)\n",
        "        print(image_gray.shape)\n",
        "        plt.imshow(image_gray)\n",
        "        plt.show()\n",
        "\n",
        "        image_gray_one_dim=image_gray.reshape(1,100*100)\n",
        "        print(image_gray_one_dim.shape)\n",
        "        data_faces_of_class[s,0]=folder_counter\n",
        "        data_faces_of_class[s,1:100*100+1]=image_gray_one_dim\n",
        "\n",
        "        #cv2.imshow(\"original image\",resized_img)\n",
        "        #cv2.imshow(\"gray image\",image_gray)\n",
        "        #print(dir_,files)\n",
        "\n",
        "\n",
        "        print(data_faces_of_class.shape)\n",
        "\n",
        "        print(data_faces_of_class[3])"
      ],
      "execution_count": 0,
      "outputs": []
    },
    {
      "cell_type": "code",
      "metadata": {
        "id": "r_SMMj1CYYFv",
        "colab_type": "code",
        "colab": {}
      },
      "source": [
        ""
      ],
      "execution_count": 0,
      "outputs": []
    }
  ]
}