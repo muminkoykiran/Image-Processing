{
  "nbformat": 4,
  "nbformat_minor": 0,
  "metadata": {
    "colab": {
      "name": "Hafta 12",
      "provenance": [],
      "collapsed_sections": []
    },
    "kernelspec": {
      "name": "python3",
      "display_name": "Python 3"
    }
  },
  "cells": [
    {
      "cell_type": "code",
      "metadata": {
        "id": "lZxxiPZrTKg9",
        "colab_type": "code",
        "colab": {}
      },
      "source": [
        "from sklearn.datasets import fetch_mldata\n",
        "import numpy as np\n",
        "%matplotlib inline\n",
        "import matplotlib\n",
        "import matplotlib.pyplot as plt"
      ],
      "execution_count": 0,
      "outputs": []
    },
    {
      "cell_type": "code",
      "metadata": {
        "id": "69ud97kLT4tT",
        "colab_type": "code",
        "colab": {}
      },
      "source": [
        "mnist = fetch_mldata('MNIST original')\n",
        "x, y = mnist[\"data\"], mnist[\"target\"]"
      ],
      "execution_count": 0,
      "outputs": []
    },
    {
      "cell_type": "code",
      "metadata": {
        "id": "p1VFx27RT5ny",
        "colab_type": "code",
        "colab": {
          "base_uri": "https://localhost:8080/",
          "height": 34
        },
        "outputId": "085f1ad2-7cda-4fe1-9ca3-a123beab38ef"
      },
      "source": [
        "type(mnist)"
      ],
      "execution_count": 3,
      "outputs": [
        {
          "output_type": "execute_result",
          "data": {
            "text/plain": [
              "sklearn.utils.Bunch"
            ]
          },
          "metadata": {
            "tags": []
          },
          "execution_count": 3
        }
      ]
    },
    {
      "cell_type": "code",
      "metadata": {
        "id": "DyoHsLRJT7DS",
        "colab_type": "code",
        "colab": {}
      },
      "source": [
        "x = x/255 # en büyük sayıya böldü ve 0 ve 1 aralığına çekti"
      ],
      "execution_count": 0,
      "outputs": []
    },
    {
      "cell_type": "code",
      "metadata": {
        "id": "7Wcuz6NeT8ID",
        "colab_type": "code",
        "colab": {}
      },
      "source": [
        "y_new = np.zeros(y.shape)\n",
        "y_new[np.where(y == 0.0)[0]] = 1\n",
        "y = y_new"
      ],
      "execution_count": 0,
      "outputs": []
    },
    {
      "cell_type": "code",
      "metadata": {
        "id": "ObrDP3YCT-O-",
        "colab_type": "code",
        "colab": {}
      },
      "source": [
        "m = 60000\n",
        "m_test = x.shape[0] - m\n",
        "\n",
        "x_train, x_test = x[:m].T, x[m:].T\n",
        "y_train, y_test = y[:m].reshape(1,m), y[m:].reshape(1,m_test)"
      ],
      "execution_count": 0,
      "outputs": []
    },
    {
      "cell_type": "code",
      "metadata": {
        "id": "nGO8OLytUBJD",
        "colab_type": "code",
        "colab": {}
      },
      "source": [
        "np.random.seed(138)\n",
        "shuffle_index = np.random.permutation(m)\n",
        "x_train, y_train = x_train[:,shuffle_index], y_train[:,shuffle_index]"
      ],
      "execution_count": 0,
      "outputs": []
    },
    {
      "cell_type": "code",
      "metadata": {
        "id": "ulch8bKWUBfq",
        "colab_type": "code",
        "colab": {
          "base_uri": "https://localhost:8080/",
          "height": 265
        },
        "outputId": "10acb317-1dd5-4ba0-c9a5-0c05eeaec0de"
      },
      "source": [
        "i = 3\n",
        "plt.imshow(x_train[:,i].reshape(28,28), cmap = matplotlib.cm.binary)\n",
        "plt.axis(\"off\")\n",
        "plt.show()\n",
        "print(y_train[:,i])"
      ],
      "execution_count": 8,
      "outputs": [
        {
          "output_type": "display_data",
          "data": {
            "image/png": "[encoded data removed]",
            "text/plain": [
              "<Figure size 432x288 with 1 Axes>"
            ]
          },
          "metadata": {
            "tags": []
          }
        },
        {
          "output_type": "stream",
          "text": [
            "[1.]\n"
          ],
          "name": "stdout"
        }
      ]
    },
    {
      "cell_type": "code",
      "metadata": {
        "id": "Q1iv6KAEUFDc",
        "colab_type": "code",
        "colab": {}
      },
      "source": [
        "def sigmoid(z):\n",
        "    s = 1 / (1 + np.exp(-z))\n",
        "    return s"
      ],
      "execution_count": 0,
      "outputs": []
    },
    {
      "cell_type": "code",
      "metadata": {
        "id": "SvYZeCrxUG8U",
        "colab_type": "code",
        "colab": {}
      },
      "source": [
        "def compute_loss(Y, Y_hat):\n",
        "    m = Y.shape[1]\n",
        "    L = -(1./m) * ( np.sum( np.multiply(np.log(Y_hat),Y) ) + np.sum( np.multiply(np.log(1-Y_hat),(1-Y)) ) )\n",
        "    return L"
      ],
      "execution_count": 0,
      "outputs": []
    },
    {
      "cell_type": "code",
      "metadata": {
        "id": "T54bjEpxUJMf",
        "colab_type": "code",
        "colab": {
          "base_uri": "https://localhost:8080/",
          "height": 102
        },
        "outputId": "6ee1e135-2b96-4caf-9e68-05848c61437f"
      },
      "source": [
        "learning_rate = 1\n",
        "\n",
        "X = x_train\n",
        "Y = y_train\n",
        "\n",
        "n_x = X.shape[0]\n",
        "m = X.shape[1]\n",
        "\n",
        "W = np.random.randn(n_x, 1) * 0.01\n",
        "b = np.zeros((1, 1))\n",
        "\n",
        "for i in range(20):\n",
        "    Z = np.matmul(W.T, X) + b\n",
        "    A = sigmoid(Z)\n",
        "\n",
        "    cost = compute_loss(Y, A)\n",
        "\n",
        "    dW = (1/m) * np.matmul(X, (A-Y).T)\n",
        "    db = (1/m) * np.sum(A-Y, axis=1, keepdims=True)\n",
        "\n",
        "    W = W - learning_rate * dW\n",
        "    b = b - learning_rate * db\n",
        "\n",
        "    if (i % 5 == 0):\n",
        "        print(\"Epoch\", i, \"cost: \", cost)\n",
        "\n",
        "print(\"Final cost:\", cost)"
      ],
      "execution_count": 11,
      "outputs": [
        {
          "output_type": "stream",
          "text": [
            "Epoch 0 cost:  0.6840801595436431\n",
            "Epoch 5 cost:  0.08757930263345258\n",
            "Epoch 10 cost:  0.07419867759416372\n",
            "Epoch 15 cost:  0.0669089996545857\n",
            "Final cost: 0.0628657932164047\n"
          ],
          "name": "stdout"
        }
      ]
    },
    {
      "cell_type": "code",
      "metadata": {
        "id": "fBdlZCqfULMP",
        "colab_type": "code",
        "colab": {
          "base_uri": "https://localhost:8080/",
          "height": 51
        },
        "outputId": "f1fe0b63-fd98-438b-e77d-3e36aad1e6b3"
      },
      "source": [
        "from sklearn.metrics import classification_report, confusion_matrix\n",
        "\n",
        "Z = np.matmul(W.T, x_test) + b\n",
        "A = sigmoid(Z)\n",
        "\n",
        "predictions = (A>.5)[0,:]\n",
        "labels = (y_test == 1)[0,:]\n",
        "\n",
        "print(confusion_matrix(predictions, labels))\n",
        "\n",
        "# ikilik classta 2x2 matris geldi 10'luk classta 10x10 'luk bir matris gelecek."
      ],
      "execution_count": 12,
      "outputs": [
        {
          "output_type": "stream",
          "text": [
            "[[8962   85]\n",
            " [  58  895]]\n"
          ],
          "name": "stdout"
        }
      ]
    },
    {
      "cell_type": "code",
      "metadata": {
        "id": "z8ca9Q9OZ2Cp",
        "colab_type": "code",
        "colab": {
          "base_uri": "https://localhost:8080/",
          "height": 170
        },
        "outputId": "33e641d5-45a2-413a-e3bc-0c0fecb9eed1"
      },
      "source": [
        "print(classification_report(predictions, labels))\n"
      ],
      "execution_count": 13,
      "outputs": [
        {
          "output_type": "stream",
          "text": [
            "              precision    recall  f1-score   support\n",
            "\n",
            "       False       0.99      0.99      0.99      9047\n",
            "        True       0.91      0.94      0.93       953\n",
            "\n",
            "    accuracy                           0.99     10000\n",
            "   macro avg       0.95      0.96      0.96     10000\n",
            "weighted avg       0.99      0.99      0.99     10000\n",
            "\n"
          ],
          "name": "stdout"
        }
      ]
    },
    {
      "cell_type": "code",
      "metadata": {
        "id": "8pBXNPbrZ3PF",
        "colab_type": "code",
        "colab": {
          "base_uri": "https://localhost:8080/",
          "height": 102
        },
        "outputId": "845b3962-9f0b-460d-d06b-ac947b6bbdce"
      },
      "source": [
        "#forward , bacward,update\n",
        "X = x_train\n",
        "Y = y_train\n",
        "\n",
        "n_x = X.shape[0]\n",
        "n_h = 64\n",
        "learning_rate = 1\n",
        "\n",
        "W1 = np.random.randn(n_h, n_x)\n",
        "b1 = np.zeros((n_h, 1))\n",
        "W2 = np.random.randn(1, n_h)\n",
        "b2 = np.zeros((1, 1))\n",
        "\n",
        "for i in range(20):\n",
        "\n",
        "    Z1 = np.matmul(W1, X) + b1\n",
        "    A1 = sigmoid(Z1)\n",
        "    Z2 = np.matmul(W2, A1) + b2\n",
        "    A2 = sigmoid(Z2)\n",
        "\n",
        "    cost = compute_loss(Y, A2)\n",
        "\n",
        "    dZ2 = A2-Y\n",
        "    dW2 = (1./m) * np.matmul(dZ2, A1.T)\n",
        "    db2 = (1./m) * np.sum(dZ2, axis=1, keepdims=True)\n",
        "\n",
        "    dA1 = np.matmul(W2.T, dZ2)\n",
        "    dZ1 = dA1 * sigmoid(Z1) * (1 - sigmoid(Z1))\n",
        "    dW1 = (1./m) * np.matmul(dZ1, X.T)\n",
        "    db1 = (1./m) * np.sum(dZ1, axis=1, keepdims=True)\n",
        "\n",
        "    W2 = W2 - learning_rate * dW2\n",
        "    b2 = b2 - learning_rate * db2\n",
        "    W1 = W1 - learning_rate * dW1\n",
        "    b1 = b1 - learning_rate * db1\n",
        "\n",
        "    if i % 5 == 0:\n",
        "        print(\"Epoch\", i, \"cost: \", cost)\n",
        "\n",
        "print(\"Final cost:\", cost)"
      ],
      "execution_count": 14,
      "outputs": [
        {
          "output_type": "stream",
          "text": [
            "Epoch 0 cost:  0.9144384083567224\n",
            "Epoch 5 cost:  0.3949167379322359\n",
            "Epoch 10 cost:  0.286952739910546\n",
            "Epoch 15 cost:  0.23169867006054337\n",
            "Final cost: 0.20414573401347053\n"
          ],
          "name": "stdout"
        }
      ]
    },
    {
      "cell_type": "code",
      "metadata": {
        "id": "jY1ciNy0Z8RN",
        "colab_type": "code",
        "colab": {}
      },
      "source": [
        ""
      ],
      "execution_count": 0,
      "outputs": []
    }
  ]
}