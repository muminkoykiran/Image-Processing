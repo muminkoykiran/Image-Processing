{
  "nbformat": 4,
  "nbformat_minor": 0,
  "metadata": {
    "colab": {
      "name": "Hafta 9",
      "provenance": [],
      "collapsed_sections": []
    },
    "kernelspec": {
      "name": "python3",
      "display_name": "Python 3"
    }
  },
  "cells": [
    {
      "cell_type": "code",
      "metadata": {
        "id": "88fCVolMSlGv",
        "colab_type": "code",
        "colab": {}
      },
      "source": [
        "import random"
      ],
      "execution_count": 0,
      "outputs": []
    },
    {
      "cell_type": "code",
      "metadata": {
        "id": "8Gq1LoRDatgs",
        "colab_type": "code",
        "colab": {
          "base_uri": "https://localhost:8080/",
          "height": 34
        },
        "outputId": "f537ae07-b599-416c-9799-31c3a074f44a"
      },
      "source": [
        "v1=[1,3]\n",
        "v2=[2,-3]\n",
        "v1,v2"
      ],
      "execution_count": 2,
      "outputs": [
        {
          "output_type": "execute_result",
          "data": {
            "text/plain": [
              "([1, 3], [2, -3])"
            ]
          },
          "metadata": {
            "tags": []
          },
          "execution_count": 2
        }
      ]
    },
    {
      "cell_type": "code",
      "metadata": {
        "id": "7QwoQeJASpmW",
        "colab_type": "code",
        "colab": {
          "base_uri": "https://localhost:8080/",
          "height": 34
        },
        "outputId": "92e339ae-48b4-4887-a624-af7b8e8c49db"
      },
      "source": [
        "v1+v2"
      ],
      "execution_count": 3,
      "outputs": [
        {
          "output_type": "execute_result",
          "data": {
            "text/plain": [
              "[1, 3, 2, -3]"
            ]
          },
          "metadata": {
            "tags": []
          },
          "execution_count": 3
        }
      ]
    },
    {
      "cell_type": "code",
      "metadata": {
        "id": "Dd5FvxIbSrGu",
        "colab_type": "code",
        "colab": {}
      },
      "source": [
        "def addVector(v1,v2):\n",
        "    v3 =[0,0]\n",
        "    v3[0]=v1[0]+v2[0]\n",
        "    v3[1]=v1[1]+v2[1]\n",
        "    return v3"
      ],
      "execution_count": 0,
      "outputs": []
    },
    {
      "cell_type": "code",
      "metadata": {
        "id": "aLhEEmOnbEvI",
        "colab_type": "code",
        "colab": {}
      },
      "source": [
        "def my_add_1(v1,v2):\n",
        "    l = len(v1)\n",
        "    result_v = []\n",
        "    for i in range(l):\n",
        "        temp = v1[i] + v2[i]\n",
        "        result_v.append(temp)\n",
        "    return result_v"
      ],
      "execution_count": 0,
      "outputs": []
    },
    {
      "cell_type": "code",
      "metadata": {
        "id": "wL0-NLKMbEyi",
        "colab_type": "code",
        "colab": {
          "base_uri": "https://localhost:8080/",
          "height": 34
        },
        "outputId": "dcfba8bb-d13e-4ea6-fbf1-5edd97cb0462"
      },
      "source": [
        "vector1 = [1,3,1]\n",
        "vector2 = [2,-3,6]\n",
        "my_add_1(vector1,vector2)"
      ],
      "execution_count": 6,
      "outputs": [
        {
          "output_type": "execute_result",
          "data": {
            "text/plain": [
              "[3, 0, 7]"
            ]
          },
          "metadata": {
            "tags": []
          },
          "execution_count": 6
        }
      ]
    },
    {
      "cell_type": "code",
      "metadata": {
        "id": "pJnIIlUhSutq",
        "colab_type": "code",
        "colab": {}
      },
      "source": [
        "def create_vectors(m=5,n=2):\n",
        "    my_vec=[]\n",
        "    for i in range(m):\n",
        "        my_vec.append([])\n",
        "        for j in range(n):\n",
        "            r = random.randint(-10,10)\n",
        "            my_vec[i].append(r)\n",
        "    return my_vec"
      ],
      "execution_count": 0,
      "outputs": []
    },
    {
      "cell_type": "code",
      "metadata": {
        "id": "0bMNi01PSwxm",
        "colab_type": "code",
        "colab": {
          "base_uri": "https://localhost:8080/",
          "height": 34
        },
        "outputId": "ec8f2a9e-e4f2-488d-c22c-cd35eeeed74e"
      },
      "source": [
        "vector = create_vectors()\n",
        "vector"
      ],
      "execution_count": 8,
      "outputs": [
        {
          "output_type": "execute_result",
          "data": {
            "text/plain": [
              "[[2, 10], [-6, 8], [-2, -7], [0, 1], [-3, 0]]"
            ]
          },
          "metadata": {
            "tags": []
          },
          "execution_count": 8
        }
      ]
    },
    {
      "cell_type": "code",
      "metadata": {
        "id": "6JAUkjlySx5m",
        "colab_type": "code",
        "colab": {}
      },
      "source": [
        "def my_center_vector(vec1,vec2):\n",
        "    if(len(vec1) == len(vec2)):\n",
        "        s=len(vec1)\n",
        "        result_vec=[]\n",
        "        for i in range(s):\n",
        "            temp = (vec1[i]+vec2[i])/2\n",
        "            result_vec.append(temp)\n",
        "        return result_vec\n",
        "    else:\n",
        "        print(\"Vectorlerin boyutları eşit değil!!!\")\n",
        "        return"
      ],
      "execution_count": 0,
      "outputs": []
    },
    {
      "cell_type": "code",
      "metadata": {
        "id": "heiuwbZ-Sy5I",
        "colab_type": "code",
        "colab": {
          "base_uri": "https://localhost:8080/",
          "height": 34
        },
        "outputId": "0156e456-a817-497c-8dd0-5e1698e01ece"
      },
      "source": [
        "my_center_vector(vector1,vector2)\n"
      ],
      "execution_count": 10,
      "outputs": [
        {
          "output_type": "execute_result",
          "data": {
            "text/plain": [
              "[1.5, 0.0, 3.5]"
            ]
          },
          "metadata": {
            "tags": []
          },
          "execution_count": 10
        }
      ]
    },
    {
      "cell_type": "code",
      "metadata": {
        "id": "P4gZTjgNSz9J",
        "colab_type": "code",
        "colab": {
          "base_uri": "https://localhost:8080/",
          "height": 34
        },
        "outputId": "92e57fa6-f35b-460f-a895-c172f042e536"
      },
      "source": [
        "my_center_vector([1,2,3,4],[458,4587])\n"
      ],
      "execution_count": 11,
      "outputs": [
        {
          "output_type": "stream",
          "text": [
            "Vectorlerin boyutları eşit değil!!!\n"
          ],
          "name": "stdout"
        }
      ]
    },
    {
      "cell_type": "code",
      "metadata": {
        "id": "rt0IMwieS1uU",
        "colab_type": "code",
        "colab": {}
      },
      "source": [
        "def myCenterVector(v1,v2):\n",
        "    lenght = len(v1)\n",
        "    if(lenght == len(v2)):\n",
        "        result=[]\n",
        "        for i in range(lenght):\n",
        "            result.append((v1[i][j]+v2[i][j])/2)\n",
        "    return result"
      ],
      "execution_count": 0,
      "outputs": []
    },
    {
      "cell_type": "code",
      "metadata": {
        "id": "N4FULPNAS3Cc",
        "colab_type": "code",
        "colab": {}
      },
      "source": [
        "def distance_v(vec1,vec2):\n",
        "    if(len(vec1)==len(vec2)):\n",
        "        l=len(vec1)\n",
        "        c=0\n",
        "        for i in range(l):\n",
        "            c=c+(vec1[i]+vec2[i])**2\n",
        "        return c**0.5\n",
        "    else :\n",
        "        print(\"Vectorlerin boyutları eşit değil!!!\")\n",
        "        return"
      ],
      "execution_count": 0,
      "outputs": []
    },
    {
      "cell_type": "code",
      "metadata": {
        "id": "Oz6DRgNMS4tZ",
        "colab_type": "code",
        "colab": {
          "base_uri": "https://localhost:8080/",
          "height": 34
        },
        "outputId": "7b4308d6-6537-4203-be5c-12f7d533ae35"
      },
      "source": [
        "vector_1=[3,0]\n",
        "vector_2=[0,4]\n",
        "distance_v(vector_1,vector_2)"
      ],
      "execution_count": 14,
      "outputs": [
        {
          "output_type": "execute_result",
          "data": {
            "text/plain": [
              "5.0"
            ]
          },
          "metadata": {
            "tags": []
          },
          "execution_count": 14
        }
      ]
    },
    {
      "cell_type": "code",
      "metadata": {
        "id": "XV5_nYXH7Vr5",
        "colab_type": "code",
        "colab": {}
      },
      "source": [
        ""
      ],
      "execution_count": 0,
      "outputs": []
    }
  ]
}